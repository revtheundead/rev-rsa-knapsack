{
 "cells": [
  {
   "cell_type": "code",
   "execution_count": 1,
   "metadata": {},
   "outputs": [
    {
     "name": "stdout",
     "output_type": "stream",
     "text": [
      "p 47603306092906066561302996268718647783\n"
     ]
    }
   ],
   "source": [
    "p = random_prime(2^128);\n",
    "if is_prime(p): print('p',p)"
   ]
  },
  {
   "cell_type": "code",
   "execution_count": 2,
   "metadata": {},
   "outputs": [
    {
     "name": "stdout",
     "output_type": "stream",
     "text": [
      "q 139623111418560983950039061912108065763\n"
     ]
    }
   ],
   "source": [
    "q = random_prime(2^128);print('q',q)\n",
    "n = p * q"
   ]
  },
  {
   "cell_type": "code",
   "execution_count": 3,
   "metadata": {},
   "outputs": [
    {
     "data": {
      "text/plain": [
       "6646521710501686681583849363641719147497078520470360043077081716620171439884"
      ]
     },
     "execution_count": 3,
     "metadata": {},
     "output_type": "execute_result"
    }
   ],
   "source": [
    "phi = (p - 1)*(q - 1); phi"
   ]
  },
  {
   "cell_type": "code",
   "execution_count": 4,
   "metadata": {},
   "outputs": [
    {
     "data": {
      "text/plain": [
       "2266812321861828779325648593503151265271875811727000086470993863257161388084"
      ]
     },
     "execution_count": 4,
     "metadata": {},
     "output_type": "execute_result"
    }
   ],
   "source": [
    "e = ZZ.random_element(phi);e"
   ]
  },
  {
   "cell_type": "code",
   "execution_count": 16,
   "metadata": {},
   "outputs": [
    {
     "name": "stdout",
     "output_type": "stream",
     "text": [
      "e 69857945884414711862617637107413675192209334943881138059340164597739144899\n",
      "d 6003666909553612955122285163533020656074460028493052732721818448780491159507 \n",
      "\n",
      "public key :\n",
      " n = 6646521710501686681583849363641719147684304937981827093588423774800998153429 \n",
      " e = 69857945884414711862617637107413675192209334943881138059340164597739144899 \n",
      "\n",
      "private key :\n",
      " d = 6003666909553612955122285163533020656074460028493052732721818448780491159507 p = 47603306092906066561302996268718647783 \n",
      " q = 139623111418560983950039061912108065763 \n",
      "\n",
      "n = 6646521710501686681583849363641719147684304937981827093588423774800998153429\n"
     ]
    }
   ],
   "source": [
    "while gcd(e, phi) != 1:\n",
    "    e = ZZ.random_element(phi)\n",
    "if e<n : print('e', e ) \n",
    "d = inverse_mod(e,phi)\n",
    "if mod(d * e, phi)==1 :print('d',d ,'\\n')\n",
    "print('public key :\\n', 'n =',n,'\\n e =',e,'\\n')\n",
    "print('private key :\\n', 'd =', d,'p =',p,'\\n q =',q ,'\\n')\n",
    "print('n =',p*q)"
   ]
  },
  {
   "cell_type": "code",
   "execution_count": 34,
   "metadata": {},
   "outputs": [
    {
     "name": "stdout",
     "output_type": "stream",
     "text": [
      "[1, 0, 1, 1, 0, 0, 1, 1]\n",
      "100010100000101\n",
      "100000000100011111001100100000100011000000101010000101111111010101000100110110100110110010111101101010110010111110010010011110110100111001111010100101101111101001100100010111011001111111010010000111100000110110111000111101111111101010111000000111000000\n",
      "success\n"
     ]
    }
   ],
   "source": [
    "m = 0b10110011\n",
    "m = [1 if m & (1 << (7-n)) else 0 for n in range(8)]; print(m)\n",
    "m = ZZ(list(reversed(m)), 100); print(m)\n",
    "c = power_mod(m, e, n) ; s = str(bin(c)); print(s[2:])\n",
    "if power_mod(c, d, n) == m:\n",
    "    print('success')"
   ]
  },
  {
   "cell_type": "code",
   "execution_count": null,
   "metadata": {},
   "outputs": [],
   "source": [
    "# -----------------------------------------------------\n",
    "# Knapsack\n",
    "# -----------------------------------------------------"
   ]
  },
  {
   "cell_type": "code",
   "execution_count": 37,
   "metadata": {},
   "outputs": [
    {
     "name": "stdout",
     "output_type": "stream",
     "text": [
      "sack_priv [2, 3, 7, 14, 30, 57, 120, 251]\n"
     ]
    }
   ],
   "source": [
    "sack_priv = [2, 3, 7, 14, 30, 57, 120, 251]\n",
    "print('sack_priv',sack_priv)"
   ]
  },
  {
   "cell_type": "code",
   "execution_count": 80,
   "metadata": {},
   "outputs": [
    {
     "name": "stdout",
     "output_type": "stream",
     "text": [
      "n 919\n"
     ]
    }
   ],
   "source": [
    "n = random_prime(1000);\n",
    "if is_prime(n) : print('n',n)"
   ]
  },
  {
   "cell_type": "code",
   "execution_count": 84,
   "metadata": {},
   "outputs": [
    {
     "name": "stdout",
     "output_type": "stream",
     "text": [
      "m 67\n"
     ]
    }
   ],
   "source": [
    "import random\n",
    "L = [];\n",
    "for i in range(1,n):\n",
    "    if gcd(i,n)==1:\n",
    "        L.append(i);\n",
    "m = random.choice(L)\n",
    "while (not is_prime(m)) or m > 100:\n",
    "    m = random.choice(L)\n",
    "print('m',m)"
   ]
  },
  {
   "cell_type": "code",
   "execution_count": 85,
   "metadata": {},
   "outputs": [
    {
     "name": "stdout",
     "output_type": "stream",
     "text": [
      "sack_pub [134, 201, 469, 19, 172, 143, 688, 275]\n"
     ]
    }
   ],
   "source": [
    "# Generate general knapsack\n",
    "sack_pub = []\n",
    "for i in range(len(sack_priv)) :\n",
    "    sack_pub.append((sack_priv[i]*m) % n)\n",
    "print('sack_pub',sack_pub)"
   ]
  },
  {
   "cell_type": "code",
   "execution_count": 95,
   "metadata": {},
   "outputs": [
    {
     "name": "stdout",
     "output_type": "stream",
     "text": [
      "public key :\n",
      " public sack = [134, 201, 469, 19, 172, 143, 688, 275]\n",
      " n = 919\n",
      "private key :\n",
      " private sack = [2, 3, 7, 14, 30, 57, 120, 251]\n",
      " inverse mod = 823\n"
     ]
    }
   ],
   "source": [
    "print('public key :\\n public sack =', sack_pub)\n",
    "print(' n =',n)\n",
    "print('private key :\\n private sack =', sack_priv)\n",
    "print(' inverse mod =', inverse_mod(67, 919))"
   ]
  },
  {
   "cell_type": "code",
   "execution_count": 120,
   "metadata": {},
   "outputs": [
    {
     "name": "stdout",
     "output_type": "stream",
     "text": [
      "[1, 0, 1, 1, 0, 0, 1, 1]\n",
      "c 1585\n"
     ]
    }
   ],
   "source": [
    "# Encrypt\n",
    "m = 0b10110011\n",
    "m_bin = bin(m)\n",
    "m = [1 if m & (1 << (7-n)) else 0 for n in range(8)]; print(m)\n",
    "c = 0\n",
    "for i in range(len(sack_pub)):\n",
    "    c += m[i]*sack_pub[i]\n",
    "print('c', c)"
   ]
  },
  {
   "cell_type": "code",
   "execution_count": 122,
   "metadata": {},
   "outputs": [
    {
     "name": "stdout",
     "output_type": "stream",
     "text": [
      "plaintext  0b10110011\n",
      "success\n"
     ]
    }
   ],
   "source": [
    "# Decrypt\n",
    "e = inverse_mod(67, 919)\n",
    "sum_decrypt = (c*e) % n\n",
    "s = 0; p = [1 for i in range(len(sack_priv))]\n",
    "i = len(sack_priv) - 1\n",
    "while (s != sum_decrypt):\n",
    "    s += p[i]*sack_priv[i]\n",
    "    if (s > sum_decrypt):\n",
    "        s -= p[i]*sack_priv[i]\n",
    "        p[i] = 0\n",
    "    i -= 1\n",
    "if (i != 0):\n",
    "    for x in range(i, 0, -1):\n",
    "        p[x] = 0\n",
    "plaintext = 0\n",
    "i = len(sack_priv) - 1\n",
    "for x in p:\n",
    "    plaintext += (2 ** i)*x\n",
    "    i -= 1\n",
    "print('plaintext ',bin(plaintext))\n",
    "if bin(plaintext) == m_bin:\n",
    "    print('success')"
   ]
  },
  {
   "cell_type": "code",
   "execution_count": null,
   "metadata": {},
   "outputs": [],
   "source": []
  }
 ],
 "metadata": {
  "kernelspec": {
   "display_name": "SageMath 9.3",
   "language": "sage",
   "name": "sagemath"
  },
  "language_info": {
   "codemirror_mode": {
    "name": "ipython",
    "version": 3
   },
   "file_extension": ".py",
   "mimetype": "text/x-python",
   "name": "python",
   "nbconvert_exporter": "python",
   "pygments_lexer": "ipython3",
   "version": "3.7.10"
  }
 },
 "nbformat": 4,
 "nbformat_minor": 4
}
